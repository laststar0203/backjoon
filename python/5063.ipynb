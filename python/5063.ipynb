{
 "cells": [
  {
   "cell_type": "markdown",
   "id": "526b1847",
   "metadata": {},
   "source": [
    "# TGN : 5063"
   ]
  },
  {
   "cell_type": "markdown",
   "id": "b97dd325",
   "metadata": {},
   "source": [
    "## Question"
   ]
  },
  {
   "cell_type": "markdown",
   "id": "490a770a",
   "metadata": {},
   "source": [
    "상근이는 TGN사의 사장이다. TGN은 Teenager Game Network의 약자 같지만, 사실 Temporary Group Name의 약자이다.\n",
    "\n",
    "이 회사는 청소년을 위한 앱을 만드는 회사이다. 일년에 걸친 개발기간 끝에 드디어 앱을 완성했고, 이제 팔기만 하면 된다.\n",
    "\n",
    "상근이는 데이트를 인간의 두뇌로 이해할 수 없을 정도로 많이 한다. 따라서 엄청난 데이트 비용이 필요하다. 상근이는 광고를 적절히 해서 수익을 최대한 올리려고 한다.\n",
    "\n",
    "어느 날 하늘을 바라보던 상근이는 시리우스의 기운을 받게 되었고, 광고 효과를 예측하는 능력을 갖게 되었다.\n",
    "\n",
    "광고 효과가 주어졌을 때, 광고를 해야할지 말아야할지 결정하는 프로그램을 작성하시오."
   ]
  },
  {
   "cell_type": "markdown",
   "id": "4b59d400",
   "metadata": {},
   "source": [
    "## Input"
   ]
  },
  {
   "cell_type": "markdown",
   "id": "d6fb1005",
   "metadata": {},
   "source": [
    "첫째 줄에 테스트 케이스의 개수 N이 주어진다. 다음 N개의 줄에는 3개의 정수 r, e, c가 주어진다. r은 광고를 하지 않았을 때 수익, e는 광고를 했을 때의 수익, c는 광고 비용이다. ($ -10^6 ≤ r,e ≤ 10^6, 0 ≤ c ≤ 10^6 $)"
   ]
  },
  {
   "cell_type": "markdown",
   "id": "0af452a4",
   "metadata": {},
   "source": [
    "## Output"
   ]
  },
  {
   "cell_type": "markdown",
   "id": "4b16a772",
   "metadata": {},
   "source": [
    "각 테스트 케이스에 대해서, 광고를 해야 하면 \"advertise\", 하지 않아야 하면 \"do not advertise\", 광고를 해도 수익이 차이가 없다면 \"does not matter\"를 출력한다."
   ]
  },
  {
   "cell_type": "markdown",
   "id": "a146859e",
   "metadata": {},
   "source": [
    "## Analysis"
   ]
  },
  {
   "cell_type": "markdown",
   "id": "c2b6d99c",
   "metadata": {},
   "source": [
    "광고를 했을 때의 순이익은 e - c 이다.\n",
    "따라서 r 과 e - c와 아래와 같이 비교한다.   \n",
    "r > e - c => do not advertise   \n",
    "r = e - c => does not matter   \n",
    "r < e - c => advertise  "
   ]
  },
  {
   "cell_type": "markdown",
   "id": "89f70761",
   "metadata": {},
   "source": [
    "## Code"
   ]
  },
  {
   "cell_type": "code",
   "execution_count": null,
   "id": "1afe8aad",
   "metadata": {},
   "outputs": [
    {
     "name": "stdout",
     "output_type": "stream",
     "text": [
      "10\n",
      "0 0 0\n",
      "does not matter\n",
      "-1 0 0\n",
      "advertise\n",
      "-1 0 -1\n",
      "advertise\n",
      "-1 0 100\n",
      "do not advertise\n"
     ]
    }
   ],
   "source": [
    "N = int(input())\n",
    "\n",
    "for _ in range(N):\n",
    "    r, e, c = list(map(int, input().rstrip().split(' ')))\n",
    "    \n",
    "    if r > e - c:\n",
    "        print(\"do not advertise\")\n",
    "    elif r == e - c:\n",
    "        print(\"does not matter\")\n",
    "    else:\n",
    "        print(\"advertise\")\n",
    "    "
   ]
  },
  {
   "cell_type": "code",
   "execution_count": null,
   "id": "95a4faf2",
   "metadata": {},
   "outputs": [],
   "source": []
  }
 ],
 "metadata": {
  "kernelspec": {
   "display_name": "assignment",
   "language": "python",
   "name": "assignment"
  },
  "language_info": {
   "codemirror_mode": {
    "name": "ipython",
    "version": 3
   },
   "file_extension": ".py",
   "mimetype": "text/x-python",
   "name": "python",
   "nbconvert_exporter": "python",
   "pygments_lexer": "ipython3",
   "version": "3.7.13"
  }
 },
 "nbformat": 4,
 "nbformat_minor": 5
}
