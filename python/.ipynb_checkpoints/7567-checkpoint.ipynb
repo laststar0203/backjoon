{
 "cells": [
  {
   "cell_type": "markdown",
   "id": "84b562d9",
   "metadata": {},
   "source": [
    "# 그릇 : 7567"
   ]
  },
  {
   "cell_type": "markdown",
   "id": "892e8367",
   "metadata": {},
   "source": [
    "## Question"
   ]
  },
  {
   "cell_type": "markdown",
   "id": "3b143e68",
   "metadata": {},
   "source": [
    "그릇을 바닥에 놓았을 때 그 높이는 10cm 이다. 그런데 두 개의 그릇을 같은 방향으로 포개면 그 높이는 5cm만 증가된다. 만일 그릇이 서로 반대방향으로 쌓이면 높이는 그릇만큼, 즉 10cm 늘어난다. 그릇을 괄호 기호로 나타내어 설명해보자. 편의상 그릇이 쌓여지는 방향은 왼쪽에서 오른쪽이라고 가정한다. 그림에서 ‘(’은 그릇이 바닥에 바로 놓인 상태를 나타내며, ‘)’은 그릇이 거꾸로 놓인 상태를 나타낸다.\n",
    "\n",
    "만일 그릇이 포개진 모양이 ((((와 같다면 전체의 높이는 25cm가 된다. 왜냐하면 처음 바닥에 있는 그릇의 높이가 10cm이고 이후 같은 방향으로 3개의 그릇이 포개져 있으므로 늘어난 높이는 5+5+5=15 이기 때문이다. ()()와 같은 경우라면 그 높이는 10*4=40cm가 된다.\n",
    "\n",
    "여러분은 입력에 주어진 모양대로 그릇을 쌓을 때 최종의 전체 그릇 높이를 계산해서 출력해야 한다. 즉 처음 입력으로 주어진 각 그릇의 방향은 바꿀 수 없다. "
   ]
  },
  {
   "cell_type": "markdown",
   "id": "66741a44",
   "metadata": {},
   "source": [
    "## Input"
   ]
  },
  {
   "cell_type": "markdown",
   "id": "c325723f",
   "metadata": {},
   "source": [
    "첫 줄에는 괄호문자로만 이루어진 문자열이 주어진다. 입력 문자열에서 열린 괄호 ‘(’은 바로 놓인 그릇, 닫힌 괄호 ‘)’은 거꾸로 놓인 그릇을 나타난다. 문자열의 길이는 3이상 50 이하이다."
   ]
  },
  {
   "cell_type": "markdown",
   "id": "f2ee4713",
   "metadata": {},
   "source": [
    "## Output"
   ]
  },
  {
   "cell_type": "markdown",
   "id": "9d42ba5c",
   "metadata": {},
   "source": [
    "여러분은 그릇 방향이 괄호 문자로 표시된 문자열을 읽어서 그 최종의 높이를 정수로 출력해야 한다.\n"
   ]
  },
  {
   "cell_type": "markdown",
   "id": "f27350db",
   "metadata": {},
   "source": [
    "## Anaysis"
   ]
  },
  {
   "cell_type": "markdown",
   "id": "9e20be08",
   "metadata": {},
   "source": [
    "- 첫 그릇은 10cm\n",
    "- 같은 방향으로 쌓일 경우 5cm 증가\n",
    "- 반대방향으로 쌓일 경우 10cm 증가"
   ]
  },
  {
   "cell_type": "markdown",
   "id": "c6364d2e",
   "metadata": {},
   "source": [
    "첫번째는 반드시 10cm 이므로 이 다음인 2번째 그릇부터 이전 그릇과의 방향 관계을 검사하는 방식을 마지막 그릇까지 반복하여 전체 길이를 측정하는 방식으로 수행"
   ]
  },
  {
   "cell_type": "markdown",
   "id": "6579960e",
   "metadata": {},
   "source": [
    "1번째 그릇 (검사 안함)  \n",
    "2번째 그릇 (1번 그릇과의 방향 관계 검사)  \n",
    "3번째 그릇 (2번 그릇과의 방향 관계 검사)  \n",
    "...  \n",
    "n번째 그릇 (n-1번 그릇과의 방향 관계 검사)  "
   ]
  },
  {
   "cell_type": "markdown",
   "id": "d1b29f31",
   "metadata": {},
   "source": [
    "따라서 n번째 그릇일때 n-1 번 그릇과의 방향이 다르면 10cm 증가 같으면 5cm 증가"
   ]
  },
  {
   "cell_type": "markdown",
   "id": "c556cb50",
   "metadata": {},
   "source": [
    "## Code"
   ]
  },
  {
   "cell_type": "code",
   "execution_count": 28,
   "id": "abedb9f7",
   "metadata": {},
   "outputs": [
    {
     "name": "stdout",
     "output_type": "stream",
     "text": [
      "((((\n",
      "25\n"
     ]
    }
   ],
   "source": [
    "import sys\n",
    "\n",
    "text = input()\n",
    "\n",
    "length = 10\n",
    "\n",
    "for i in range(1, len(text)):\n",
    "    length += 10 if text[i] != text[i - 1] else 5\n",
    "\n",
    "print(length)"
   ]
  },
  {
   "cell_type": "code",
   "execution_count": null,
   "id": "f17f2c5b",
   "metadata": {},
   "outputs": [],
   "source": []
  }
 ],
 "metadata": {
  "kernelspec": {
   "display_name": "assignment",
   "language": "python",
   "name": "assignment"
  },
  "language_info": {
   "codemirror_mode": {
    "name": "ipython",
    "version": 3
   },
   "file_extension": ".py",
   "mimetype": "text/x-python",
   "name": "python",
   "nbconvert_exporter": "python",
   "pygments_lexer": "ipython3",
   "version": "3.7.13"
  }
 },
 "nbformat": 4,
 "nbformat_minor": 5
}
