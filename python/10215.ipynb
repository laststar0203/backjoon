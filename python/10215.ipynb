{
 "cells": [
  {
   "cell_type": "markdown",
   "id": "526b1847",
   "metadata": {},
   "source": [
    "# Colored Bead Works : 10215"
   ]
  },
  {
   "cell_type": "markdown",
   "id": "b97dd325",
   "metadata": {},
   "source": [
    "## Question"
   ]
  },
  {
   "cell_type": "markdown",
   "id": "490a770a",
   "metadata": {},
   "source": [
    "하얀 구슬, 초록 구슬 접시, 자리 열 여섯 개, 정사각형 접시가 있고, 4x4 형태로 구슬이 들어갈 자리가 16개 있습니다. 구슬은 하얀 구슬과 초록 구슬 두 종류가 있습니다. 이것들을 이용해서 할 수 있는 action은 6가지가 있습니다.\n",
    "\n",
    "(W) 하얀 구슬을 접시 가운데에 떨어뜨린다.   \n",
    "(G) 초록 구슬을 접시 가운데에 떨어뜨린다.   \n",
    "\n",
    "접시 가운데에 구슬을 떨어뜨리면, 16칸의 자리 중 한 곳 들어가게 됩니다.   \n",
    "만약 가운데 4개 중 4개의 자리가 전부 비어있다면 25% 확률에 따라 어딘가 하나에 들어가게 됩니다.   \n",
    "3개의 자리가 비어있다면, 이미 채워진 한 자리의 대각선 맞은 편에 100% 확률로 들어가게 됩니다.   \n",
    "2개의 자리가 비어있다면, 50% 확률로 남은 두 자리 중 하나에 들어가고,   \n",
    "한 자리가 비어있다면, 역시 남은 한 자리에 100% 확률로 들어갑니다.\n",
    "\n",
    "가운데 4개 칸이 모두 가득 차 있을 경우 남은 빈 칸중 한 곳에 동일한 확률로 들어가게 됩니다.\n",
    "\n",
    "남은 action 4가지는 접시를 기울이는 것입니다.\n",
    "\n",
    "(L) 접시를 왼쪽으로 기울인다.   \n",
    "(R) 접시를 오른쪽으로 기울인다.   \n",
    "(T) 접시를 위쪽으로 기울인다.   \n",
    "(B) 접시를 아래쪽으로 기울인다. \n",
    "\n",
    "접시를 기울이면, 중력에 의해 구슬이 움직입니다. 예를 들어, 왼쪽으로 접시를 기울이면, 각 구슬이 더 이상 왼쪽에 빈칸이 없을 때까지 왼쪽에 붙게 됩니다.\n",
    "\n",
    "E = empty, W = white, G = green\n",
    "\n",
    "ex1)\n",
    "```\n",
    "EWEE\n",
    "WEGW\n",
    "GWGE\n",
    "EEEE\n",
    "```\n",
    "\n",
    "ex1을 왼쪽으로 기울인 결과)\n",
    "\n",
    "```\n",
    "WEEE\n",
    "WGWE\n",
    "GWGE\n",
    "EEEE\n",
    "```\n",
    "ex1을 오른쪽으로 기울인 결과)\n",
    "```\n",
    "EEEW\n",
    "EWGW\n",
    "EGWG\n",
    "EEEE\n",
    "```\n",
    "ex1을 위쪽으로 기울인 결과)\n",
    "```\n",
    "WWGW\n",
    "GWGE\n",
    "EEEE\n",
    "EEEE\n",
    "```\n",
    "ex1을 아래쪽으로 기울인 결과)\n",
    "```\n",
    "EEEE\n",
    "EEEE\n",
    "WWGE\n",
    "GWGW\n",
    "```\n",
    "N개의 action과 접시 상태 하나가 주어집니다. **빈 접시에서 시작해서**, N번의 action 후에 입력으로 주어진 접시 상태와 동일한 모양이 나올 확률을 계산하세요."
   ]
  },
  {
   "cell_type": "markdown",
   "id": "4b59d400",
   "metadata": {},
   "source": [
    "## Input"
   ]
  },
  {
   "cell_type": "markdown",
   "id": "d6fb1005",
   "metadata": {},
   "source": [
    "입력 파일의 첫 번째 줄에 테스트 케이스의 수를 의미하는 자연수 T (T = 1)가 주어진다. 그 다음에는 T개의 테스트 케이스가 주어진다.\n",
    "\n",
    "각 테스트 케이스의 첫 줄은 action의 개수 $N (0 ≤ N ≤ 16)$과 N개의 action들이 주어진다.\n",
    "\n",
    "이 후 4줄에 걸쳐 얻고자 하는 접시 상태가 입력된다."
   ]
  },
  {
   "cell_type": "markdown",
   "id": "0af452a4",
   "metadata": {},
   "source": [
    "## Output"
   ]
  },
  {
   "cell_type": "markdown",
   "id": "4b16a772",
   "metadata": {},
   "source": [
    "각 테스트 케이스마다 한 줄에 걸쳐 정답을 출력한다. 절대오차나 상대오차가 $ 1/10^6 $미만인 경우 정답으로 인정된다."
   ]
  },
  {
   "cell_type": "markdown",
   "id": "a146859e",
   "metadata": {},
   "source": [
    "## Analysis"
   ]
  },
  {
   "cell_type": "markdown",
   "id": "c2b6d99c",
   "metadata": {},
   "source": [
    "여러 action에 따른 확률 계산을 어떻게 해야할지가 관건"
   ]
  },
  {
   "cell_type": "markdown",
   "id": "89f70761",
   "metadata": {},
   "source": [
    "## Code"
   ]
  },
  {
   "cell_type": "code",
   "execution_count": 2,
   "id": "1afe8aad",
   "metadata": {},
   "outputs": [
    {
     "name": "stdout",
     "output_type": "stream",
     "text": [
      "1\n",
      "1 0\n",
      "0 0\n",
      "0 0\n",
      "0 0\n",
      "0 0\n",
      "0 0\n",
      "0 0\n",
      "0 0\n",
      "0 0\n",
      "Yonsei\n"
     ]
    }
   ],
   "source": [
    "N = int(input())\n",
    "\n",
    "for _ in range(N):\n",
    "    y_sum = 0\n",
    "    k_sum = 0\n",
    "    for _2 in range(9):\n",
    "        a, b = list(map(int, input().rstrip().split(' ')))\n",
    "        y_sum += a\n",
    "        k_sum += b\n",
    "    if k_sum > y_sum:\n",
    "        print(\"Korea\")\n",
    "    elif k_sum < y_sum:\n",
    "        print(\"Yonsei\")\n",
    "    else:\n",
    "        print(\"Draw\")\n",
    "            \n",
    "    "
   ]
  },
  {
   "cell_type": "code",
   "execution_count": null,
   "id": "95a4faf2",
   "metadata": {},
   "outputs": [],
   "source": []
  }
 ],
 "metadata": {
  "kernelspec": {
   "display_name": "assignment",
   "language": "python",
   "name": "assignment"
  },
  "language_info": {
   "codemirror_mode": {
    "name": "ipython",
    "version": 3
   },
   "file_extension": ".py",
   "mimetype": "text/x-python",
   "name": "python",
   "nbconvert_exporter": "python",
   "pygments_lexer": "ipython3",
   "version": "3.7.13"
  }
 },
 "nbformat": 4,
 "nbformat_minor": 5
}
