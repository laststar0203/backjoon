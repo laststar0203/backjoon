{
 "cells": [
  {
   "cell_type": "markdown",
   "id": "526b1847",
   "metadata": {},
   "source": [
    "# Baseball : 10214"
   ]
  },
  {
   "cell_type": "markdown",
   "id": "b97dd325",
   "metadata": {},
   "source": [
    "## Question"
   ]
  },
  {
   "cell_type": "markdown",
   "id": "490a770a",
   "metadata": {},
   "source": [
    "경근이는 수업 과제의 일환으로 연세대학교의 역사를 조사하고 있었다. 케케묵은 도서관 구석에서 경근이가 발견한 것은 역대 연고전의 야구경기 실황 기록문서였다.\n",
    "하지만 문서를 가지고 있음에도 불구하고 한 눈에 당시의 경기 승패를 파악하기에는 어려움이 많았는데, 문서에는 회차별 양 팀 획득 점수만이 적혀져 있기 때문이었다.\n",
    "\n",
    "경근이는 주어진 방대한 자료를 해석하는것이 귀찮았기 때문에 절친한 프로그래머 친구인 당신에게 도움을 요청했다.\n",
    "\n",
    "주어진 실황 기록문서에서 어떤 팀이 이겼는지를 알아내 경근이를 도와주자!"
   ]
  },
  {
   "cell_type": "markdown",
   "id": "4b59d400",
   "metadata": {},
   "source": [
    "## Input"
   ]
  },
  {
   "cell_type": "markdown",
   "id": "d6fb1005",
   "metadata": {},
   "source": [
    "입력 파일의 첫 번째 줄에 테스트 케이스의 수를 의미하는 자연수 T가 주어진다. 그 다음에는 T개의 테스트 케이스가 주어진다.\n",
    "\n",
    "각 테스트 케이스는 9줄에 걸쳐서 입력되며, 매 줄마다 해당 회의 연세대 득점 Y와 고려대 득점 K가 공백으로 구분되어 주어진다. 이 두 수는 0이상 9이하이다."
   ]
  },
  {
   "cell_type": "markdown",
   "id": "0af452a4",
   "metadata": {},
   "source": [
    "## Output"
   ]
  },
  {
   "cell_type": "markdown",
   "id": "4b16a772",
   "metadata": {},
   "source": [
    "각각의 케이스마다 한 줄에 연세대가 이겼을 경우 \"Yonsei\", 고려대가 이겼을 경우 \"Korea\", 비겼을 경우 \"Draw\"를 출력한다."
   ]
  },
  {
   "cell_type": "markdown",
   "id": "a146859e",
   "metadata": {},
   "source": [
    "## Analysis"
   ]
  },
  {
   "cell_type": "markdown",
   "id": "c2b6d99c",
   "metadata": {},
   "source": [
    "한 경기(테스트 케이스)에 대하여 9회 동안 발생된 연세대, 고려대의 총 득점을 비교하여\n",
    "승패 결과를 출력하는 것이 핵심"
   ]
  },
  {
   "cell_type": "markdown",
   "id": "89f70761",
   "metadata": {},
   "source": [
    "## Code"
   ]
  },
  {
   "cell_type": "code",
   "execution_count": 2,
   "id": "1afe8aad",
   "metadata": {},
   "outputs": [
    {
     "name": "stdout",
     "output_type": "stream",
     "text": [
      "1\n",
      "1 0\n",
      "0 0\n",
      "0 0\n",
      "0 0\n",
      "0 0\n",
      "0 0\n",
      "0 0\n",
      "0 0\n",
      "0 0\n",
      "Yonsei\n"
     ]
    }
   ],
   "source": [
    "N = int(input())\n",
    "\n",
    "for _ in range(N):\n",
    "    y_sum = 0\n",
    "    k_sum = 0\n",
    "    for _2 in range(9):\n",
    "        a, b = list(map(int, input().rstrip().split(' ')))\n",
    "        y_sum += a\n",
    "        k_sum += b\n",
    "    if k_sum > y_sum:\n",
    "        print(\"Korea\")\n",
    "    elif k_sum < y_sum:\n",
    "        print(\"Yonsei\")\n",
    "    else:\n",
    "        print(\"Draw\")\n",
    "            \n",
    "    "
   ]
  },
  {
   "cell_type": "code",
   "execution_count": null,
   "id": "95a4faf2",
   "metadata": {},
   "outputs": [],
   "source": []
  }
 ],
 "metadata": {
  "kernelspec": {
   "display_name": "assignment",
   "language": "python",
   "name": "assignment"
  },
  "language_info": {
   "codemirror_mode": {
    "name": "ipython",
    "version": 3
   },
   "file_extension": ".py",
   "mimetype": "text/x-python",
   "name": "python",
   "nbconvert_exporter": "python",
   "pygments_lexer": "ipython3",
   "version": "3.7.13"
  }
 },
 "nbformat": 4,
 "nbformat_minor": 5
}
